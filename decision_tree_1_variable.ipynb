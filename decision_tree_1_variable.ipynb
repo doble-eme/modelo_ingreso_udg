{
 "cells": [
  {
   "cell_type": "code",
   "execution_count": 76,
   "id": "a4e14bfd",
   "metadata": {},
   "outputs": [],
   "source": [
    "import numpy as np\n",
    "import pandas as pd\n",
    "import seaborn as sns\n",
    "import matplotlib.pyplot as plt\n",
    "from sklearn.tree import DecisionTreeClassifier\n",
    "from sklearn.model_selection import train_test_split\n",
    "from sklearn import metrics\n",
    "%matplotlib inline\n",
    "\n",
    "df = pd.read_excel (r'/Users/mariomorales/Documents/ITESO/TOG/datos1/datos_udg_admision.xlsx')"
   ]
  },
  {
   "cell_type": "code",
   "execution_count": 77,
   "id": "c054d158",
   "metadata": {},
   "outputs": [
    {
     "data": {
      "text/html": [
       "<div>\n",
       "<style scoped>\n",
       "    .dataframe tbody tr th:only-of-type {\n",
       "        vertical-align: middle;\n",
       "    }\n",
       "\n",
       "    .dataframe tbody tr th {\n",
       "        vertical-align: top;\n",
       "    }\n",
       "\n",
       "    .dataframe thead th {\n",
       "        text-align: right;\n",
       "    }\n",
       "</style>\n",
       "<table border=\"1\" class=\"dataframe\">\n",
       "  <thead>\n",
       "    <tr style=\"text-align: right;\">\n",
       "      <th></th>\n",
       "      <th>CENTRO</th>\n",
       "      <th>CARRERA</th>\n",
       "      <th>ASPIRANTES</th>\n",
       "      <th>ADMITIDOS</th>\n",
       "      <th>NO_ADMITIDOS</th>\n",
       "      <th>CUPO</th>\n",
       "      <th>PORCENTAJE_ADMISION</th>\n",
       "      <th>PUNTAJE_MINIMO</th>\n",
       "      <th>CALENDARIO</th>\n",
       "      <th>PROBABILIDAD</th>\n",
       "    </tr>\n",
       "  </thead>\n",
       "  <tbody>\n",
       "    <tr>\n",
       "      <th>0</th>\n",
       "      <td>CUAAD</td>\n",
       "      <td>LICENCIATURA EN DISENO PARA LA COMUNICACION GR...</td>\n",
       "      <td>812</td>\n",
       "      <td>135</td>\n",
       "      <td>677</td>\n",
       "      <td>135</td>\n",
       "      <td>0.1663</td>\n",
       "      <td>160.0556</td>\n",
       "      <td>2</td>\n",
       "      <td>0</td>\n",
       "    </tr>\n",
       "    <tr>\n",
       "      <th>1</th>\n",
       "      <td>CUAAD</td>\n",
       "      <td>LICENCIATURA EN DISENO DE MODAS</td>\n",
       "      <td>166</td>\n",
       "      <td>40</td>\n",
       "      <td>126</td>\n",
       "      <td>40</td>\n",
       "      <td>0.2410</td>\n",
       "      <td>156.8356</td>\n",
       "      <td>2</td>\n",
       "      <td>0</td>\n",
       "    </tr>\n",
       "    <tr>\n",
       "      <th>2</th>\n",
       "      <td>CUAAD</td>\n",
       "      <td>LICENCIATURA EN DISENO DE INTERIORES Y AMBIENT...</td>\n",
       "      <td>434</td>\n",
       "      <td>60</td>\n",
       "      <td>374</td>\n",
       "      <td>60</td>\n",
       "      <td>0.1382</td>\n",
       "      <td>157.5622</td>\n",
       "      <td>2</td>\n",
       "      <td>0</td>\n",
       "    </tr>\n",
       "    <tr>\n",
       "      <th>3</th>\n",
       "      <td>CUAAD</td>\n",
       "      <td>LICENCIATURA EN URBANISTICA Y MEDIO AMBIENTE</td>\n",
       "      <td>88</td>\n",
       "      <td>50</td>\n",
       "      <td>38</td>\n",
       "      <td>50</td>\n",
       "      <td>0.5682</td>\n",
       "      <td>138.1111</td>\n",
       "      <td>2</td>\n",
       "      <td>1</td>\n",
       "    </tr>\n",
       "    <tr>\n",
       "      <th>4</th>\n",
       "      <td>CUAAD</td>\n",
       "      <td>LICENCIATURA EN ARQUITECTURA</td>\n",
       "      <td>1021</td>\n",
       "      <td>135</td>\n",
       "      <td>886</td>\n",
       "      <td>135</td>\n",
       "      <td>0.1322</td>\n",
       "      <td>167.4011</td>\n",
       "      <td>2</td>\n",
       "      <td>0</td>\n",
       "    </tr>\n",
       "  </tbody>\n",
       "</table>\n",
       "</div>"
      ],
      "text/plain": [
       "  CENTRO                                            CARRERA  ASPIRANTES  \\\n",
       "0  CUAAD  LICENCIATURA EN DISENO PARA LA COMUNICACION GR...         812   \n",
       "1  CUAAD                   LICENCIATURA EN DISENO DE MODAS          166   \n",
       "2  CUAAD  LICENCIATURA EN DISENO DE INTERIORES Y AMBIENT...         434   \n",
       "3  CUAAD      LICENCIATURA EN URBANISTICA Y MEDIO AMBIENTE           88   \n",
       "4  CUAAD                      LICENCIATURA EN ARQUITECTURA         1021   \n",
       "\n",
       "   ADMITIDOS  NO_ADMITIDOS  CUPO  PORCENTAJE_ADMISION  PUNTAJE_MINIMO  \\\n",
       "0        135           677   135               0.1663        160.0556   \n",
       "1         40           126    40               0.2410        156.8356   \n",
       "2         60           374    60               0.1382        157.5622   \n",
       "3         50            38    50               0.5682        138.1111   \n",
       "4        135           886   135               0.1322        167.4011   \n",
       "\n",
       "   CALENDARIO  PROBABILIDAD  \n",
       "0           2             0  \n",
       "1           2             0  \n",
       "2           2             0  \n",
       "3           2             1  \n",
       "4           2             0  "
      ]
     },
     "execution_count": 77,
     "metadata": {},
     "output_type": "execute_result"
    }
   ],
   "source": [
    "#Impresión del data frame\n",
    "df.head()"
   ]
  },
  {
   "cell_type": "code",
   "execution_count": 78,
   "id": "78e25e9d",
   "metadata": {},
   "outputs": [
    {
     "name": "stdout",
     "output_type": "stream",
     "text": [
      "<class 'pandas.core.frame.DataFrame'>\n",
      "RangeIndex: 1790 entries, 0 to 1789\n",
      "Data columns (total 10 columns):\n",
      " #   Column               Non-Null Count  Dtype  \n",
      "---  ------               --------------  -----  \n",
      " 0   CENTRO               1790 non-null   object \n",
      " 1   CARRERA              1790 non-null   object \n",
      " 2   ASPIRANTES           1790 non-null   int64  \n",
      " 3   ADMITIDOS            1790 non-null   int64  \n",
      " 4   NO_ADMITIDOS         1790 non-null   int64  \n",
      " 5   CUPO                 1790 non-null   int64  \n",
      " 6   PORCENTAJE_ADMISION  1790 non-null   float64\n",
      " 7   PUNTAJE_MINIMO       1790 non-null   float64\n",
      " 8   CALENDARIO           1790 non-null   int64  \n",
      " 9   PROBABILIDAD         1790 non-null   int64  \n",
      "dtypes: float64(2), int64(6), object(2)\n",
      "memory usage: 140.0+ KB\n"
     ]
    }
   ],
   "source": [
    "#Información sobre el Data Frame, comprobar que no hay datos nulos\n",
    "df.info()"
   ]
  },
  {
   "cell_type": "code",
   "execution_count": 79,
   "id": "d09d00b5",
   "metadata": {},
   "outputs": [
    {
     "name": "stderr",
     "output_type": "stream",
     "text": [
      "/opt/anaconda3/lib/python3.8/site-packages/seaborn/_decorators.py:36: FutureWarning: Pass the following variable as a keyword arg: x. From version 0.12, the only valid positional argument will be `data`, and passing other arguments without an explicit keyword will result in an error or misinterpretation.\n",
      "  warnings.warn(\n"
     ]
    },
    {
     "data": {
      "text/plain": [
       "<AxesSubplot:xlabel='PROBABILIDAD', ylabel='count'>"
      ]
     },
     "execution_count": 79,
     "metadata": {},
     "output_type": "execute_result"
    },
    {
     "data": {
      "image/png": "[encoded data removed]",
      "text/plain": [
       "<Figure size 432x288 with 1 Axes>"
      ]
     },
     "metadata": {
      "needs_background": "light"
     },
     "output_type": "display_data"
    }
   ],
   "source": [
    "#Observamos las carreras con probabilidad alta de ingreso = 1 o carreras con porcentaje de admisión\n",
    "#por encima del 38%, y carreras con probabilidad baja de ingreso = 0, o que tengan un porcentaje de admisión\n",
    "#por debajo del 38%\n",
    "sns.countplot(df['PROBABILIDAD'])"
   ]
  },
  {
   "cell_type": "code",
   "execution_count": 80,
   "id": "57a2cc28",
   "metadata": {},
   "outputs": [
    {
     "name": "stderr",
     "output_type": "stream",
     "text": [
      "/opt/anaconda3/lib/python3.8/site-packages/seaborn/_decorators.py:36: FutureWarning: Pass the following variable as a keyword arg: x. From version 0.12, the only valid positional argument will be `data`, and passing other arguments without an explicit keyword will result in an error or misinterpretation.\n",
      "  warnings.warn(\n"
     ]
    },
    {
     "data": {
      "text/plain": [
       "<AxesSubplot:xlabel='CALENDARIO', ylabel='count'>"
      ]
     },
     "execution_count": 80,
     "metadata": {},
     "output_type": "execute_result"
    },
    {
     "data": {
      "image/png": "[encoded data removed]",
      "text/plain": [
       "<Figure size 432x288 with 1 Axes>"
      ]
     },
     "metadata": {
      "needs_background": "light"
     },
     "output_type": "display_data"
    }
   ],
   "source": [
    "#Observamos qué calendario tiene mayor dificultad de ingreso. En este caso se confirma que el calendario B(2) es\n",
    "#el calendario con mayor dificultad de ingreso, pues las carreras con probabilidad baja(0) son mayores que en el\n",
    "#calendario A(1)\n",
    "sns.countplot(df['CALENDARIO'],hue=df['PROBABILIDAD'])"
   ]
  },
  {
   "cell_type": "code",
   "execution_count": 81,
   "id": "05426499",
   "metadata": {},
   "outputs": [],
   "source": [
    "#Se establecen las variables independientes (x) y dependientes o target (y)\n",
    "feature_cols = ['CALENDARIO','PUNTAJE_MINIMO','PORCENTAJE_ADMISION','CUPO','ADMITIDOS','ASPIRANTES']\n",
    "X = df[feature_cols]\n",
    "y = df.PROBABILIDAD"
   ]
  },
  {
   "cell_type": "code",
   "execution_count": 82,
   "id": "e1a1a5de",
   "metadata": {},
   "outputs": [],
   "source": [
    "X_train, X_test, y_train, y_test = train_test_split(X, y, test_size=0.3, random_state=1)"
   ]
  },
  {
   "cell_type": "code",
   "execution_count": 83,
   "id": "f697ee31",
   "metadata": {},
   "outputs": [],
   "source": [
    "# Create Decision Tree classifier object\n",
    "clf = DecisionTreeClassifier()\n",
    "# Train Decision Tree Classifier\n",
    "clf = clf.fit(X_train,y_train)\n",
    "#Predict the response for test dataset\n",
    "y_pred = clf.predict(X_test)"
   ]
  },
  {
   "cell_type": "code",
   "execution_count": 84,
   "id": "04ba7f9d",
   "metadata": {},
   "outputs": [
    {
     "name": "stdout",
     "output_type": "stream",
     "text": [
      "Accuracy: 1.0\n"
     ]
    }
   ],
   "source": [
    "print(\"Accuracy:\",metrics.accuracy_score(y_test, y_pred))"
   ]
  },
  {
   "cell_type": "code",
   "execution_count": 85,
   "id": "de782e68",
   "metadata": {},
   "outputs": [
    {
     "data": {
      "image/svg+xml": [
       "<?xml version=\"1.0\" encoding=\"UTF-8\" standalone=\"no\"?>\n",
       "<!DOCTYPE svg PUBLIC \"-//W3C//DTD SVG 1.1//EN\"\n",
       " \"http://www.w3.org/Graphics/SVG/1.1/DTD/svg11.dtd\">\n",
       "<!-- Generated by graphviz version 2.49.1 (20210923.0004)\n",
       " -->\n",
       "<!-- Title: Tree Pages: 1 -->\n",
       "<svg width=\"252pt\" height=\"195pt\"\n",
       " viewBox=\"0.00 0.00 252.00 195.00\" xmlns=\"http://www.w3.org/2000/svg\" xmlns:xlink=\"http://www.w3.org/1999/xlink\">\n",
       "<g id=\"graph0\" class=\"graph\" transform=\"scale(1 1) rotate(0) translate(4 191)\">\n",
       "<title>Tree</title>\n",
       "<polygon fill=\"white\" stroke=\"transparent\" points=\"-4,4 -4,-191 248,-191 248,4 -4,4\"/>\n",
       "<!-- 0 -->\n",
       "<g id=\"node1\" class=\"node\">\n",
       "<title>0</title>\n",
       "<path fill=\"#95cbf1\" stroke=\"black\" d=\"M224,-187C224,-187 19,-187 19,-187 13,-187 7,-181 7,-175 7,-175 7,-116 7,-116 7,-110 13,-104 19,-104 19,-104 224,-104 224,-104 230,-104 236,-110 236,-116 236,-116 236,-175 236,-175 236,-181 230,-187 224,-187\"/>\n",
       "<text text-anchor=\"start\" x=\"15\" y=\"-171.8\" font-family=\"Helvetica,sans-Serif\" font-size=\"14.00\">PORCENTAJE_ADMISION ≤ 0.38</text>\n",
       "<text text-anchor=\"start\" x=\"85\" y=\"-156.8\" font-family=\"Helvetica,sans-Serif\" font-size=\"14.00\">gini = 0.433</text>\n",
       "<text text-anchor=\"start\" x=\"71.5\" y=\"-141.8\" font-family=\"Helvetica,sans-Serif\" font-size=\"14.00\">samples = 1253</text>\n",
       "<text text-anchor=\"start\" x=\"65.5\" y=\"-126.8\" font-family=\"Helvetica,sans-Serif\" font-size=\"14.00\">value = [398, 855]</text>\n",
       "<text text-anchor=\"start\" x=\"93.5\" y=\"-111.8\" font-family=\"Helvetica,sans-Serif\" font-size=\"14.00\">class = 1</text>\n",
       "</g>\n",
       "<!-- 1 -->\n",
       "<g id=\"node2\" class=\"node\">\n",
       "<title>1</title>\n",
       "<path fill=\"#e58139\" stroke=\"black\" d=\"M101,-68C101,-68 12,-68 12,-68 6,-68 0,-62 0,-56 0,-56 0,-12 0,-12 0,-6 6,0 12,0 12,0 101,0 101,0 107,0 113,-6 113,-12 113,-12 113,-56 113,-56 113,-62 107,-68 101,-68\"/>\n",
       "<text text-anchor=\"start\" x=\"27.5\" y=\"-52.8\" font-family=\"Helvetica,sans-Serif\" font-size=\"14.00\">gini = 0.0</text>\n",
       "<text text-anchor=\"start\" x=\"10.5\" y=\"-37.8\" font-family=\"Helvetica,sans-Serif\" font-size=\"14.00\">samples = 398</text>\n",
       "<text text-anchor=\"start\" x=\"8\" y=\"-22.8\" font-family=\"Helvetica,sans-Serif\" font-size=\"14.00\">value = [398, 0]</text>\n",
       "<text text-anchor=\"start\" x=\"28.5\" y=\"-7.8\" font-family=\"Helvetica,sans-Serif\" font-size=\"14.00\">class = 0</text>\n",
       "</g>\n",
       "<!-- 0&#45;&gt;1 -->\n",
       "<g id=\"edge1\" class=\"edge\">\n",
       "<title>0&#45;&gt;1</title>\n",
       "<path fill=\"none\" stroke=\"black\" d=\"M97.3,-103.73C92.1,-94.97 86.6,-85.7 81.38,-76.91\"/>\n",
       "<polygon fill=\"black\" stroke=\"black\" points=\"84.38,-75.11 76.27,-68.3 78.36,-78.69 84.38,-75.11\"/>\n",
       "<text text-anchor=\"middle\" x=\"70.09\" y=\"-88.82\" font-family=\"Helvetica,sans-Serif\" font-size=\"14.00\">True</text>\n",
       "</g>\n",
       "<!-- 2 -->\n",
       "<g id=\"node3\" class=\"node\">\n",
       "<title>2</title>\n",
       "<path fill=\"#399de5\" stroke=\"black\" d=\"M232,-68C232,-68 143,-68 143,-68 137,-68 131,-62 131,-56 131,-56 131,-12 131,-12 131,-6 137,0 143,0 143,0 232,0 232,0 238,0 244,-6 244,-12 244,-12 244,-56 244,-56 244,-62 238,-68 232,-68\"/>\n",
       "<text text-anchor=\"start\" x=\"158.5\" y=\"-52.8\" font-family=\"Helvetica,sans-Serif\" font-size=\"14.00\">gini = 0.0</text>\n",
       "<text text-anchor=\"start\" x=\"141.5\" y=\"-37.8\" font-family=\"Helvetica,sans-Serif\" font-size=\"14.00\">samples = 855</text>\n",
       "<text text-anchor=\"start\" x=\"139\" y=\"-22.8\" font-family=\"Helvetica,sans-Serif\" font-size=\"14.00\">value = [0, 855]</text>\n",
       "<text text-anchor=\"start\" x=\"159.5\" y=\"-7.8\" font-family=\"Helvetica,sans-Serif\" font-size=\"14.00\">class = 1</text>\n",
       "</g>\n",
       "<!-- 0&#45;&gt;2 -->\n",
       "<g id=\"edge2\" class=\"edge\">\n",
       "<title>0&#45;&gt;2</title>\n",
       "<path fill=\"none\" stroke=\"black\" d=\"M146.08,-103.73C151.35,-94.97 156.94,-85.7 162.24,-76.91\"/>\n",
       "<polygon fill=\"black\" stroke=\"black\" points=\"165.26,-78.67 167.43,-68.3 159.27,-75.06 165.26,-78.67\"/>\n",
       "<text text-anchor=\"middle\" x=\"173.44\" y=\"-88.87\" font-family=\"Helvetica,sans-Serif\" font-size=\"14.00\">False</text>\n",
       "</g>\n",
       "</g>\n",
       "</svg>\n"
      ],
      "text/plain": [
       "<graphviz.files.Source at 0x7f94b0e42160>"
      ]
     },
     "execution_count": 85,
     "metadata": {},
     "output_type": "execute_result"
    }
   ],
   "source": [
    "import graphviz\n",
    "from sklearn import tree\n",
    "\n",
    "dot_data = tree.export_graphviz(clf, out_file=None,\n",
    "                    feature_names = feature_cols,\n",
    "                    class_names=['0','1'],\n",
    "                    filled=True, rounded=True,\n",
    "                    special_characters=True)\n",
    "\n",
    "graph = graphviz.Source(dot_data)  \n",
    "graph"
   ]
  },
  {
   "cell_type": "code",
   "execution_count": null,
   "id": "4e9847e6",
   "metadata": {},
   "outputs": [],
   "source": []
  }
 ],
 "metadata": {
  "kernelspec": {
   "display_name": "Python 3 (ipykernel)",
   "language": "python",
   "name": "python3"
  },
  "language_info": {
   "codemirror_mode": {
    "name": "ipython",
    "version": 3
   },
   "file_extension": ".py",
   "mimetype": "text/x-python",
   "name": "python",
   "nbconvert_exporter": "python",
   "pygments_lexer": "ipython3",
   "version": "3.8.11"
  }
 },
 "nbformat": 4,
 "nbformat_minor": 5
}
